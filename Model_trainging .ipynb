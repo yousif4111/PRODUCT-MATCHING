{
  "nbformat": 4,
  "nbformat_minor": 0,
  "metadata": {
    "accelerator": "GPU",
    "colab": {
      "name": "Model_trainging.ipynb",
      "provenance": [],
      "toc_visible": true
    },
    "kernelspec": {
      "display_name": "Python 3",
      "name": "python3"
    },
    "language_info": {
      "name": "python"
    }
  },
  "cells": [
    {
      "cell_type": "markdown",
      "metadata": {
        "id": "qLdGGfztdMhA"
      },
      "source": [
        "# Shopee Model building"
      ]
    },
    {
      "cell_type": "code",
      "metadata": {
        "id": "KFJfW8P7vxVN"
      },
      "source": [
        "# Install RAPIDS\n",
        "!git clone https://github.com/rapidsai/rapidsai-csp-utils.git\n",
        "!bash rapidsai-csp-utils/colab/rapids-colab.sh stable\n",
        "\n",
        "import sys, os\n",
        "\n",
        "dist_package_index = sys.path.index('/usr/local/lib/python3.7/dist-packages')\n",
        "sys.path = sys.path[:dist_package_index] + ['/usr/local/lib/python3.7/site-packages'] + sys.path[dist_package_index:]\n",
        "sys.path\n",
        "exec(open('rapidsai-csp-utils/colab/update_modules.py').read(), globals())"
      ],
      "execution_count": null,
      "outputs": []
    },
    {
      "cell_type": "code",
      "metadata": {
        "colab": {
          "base_uri": "https://localhost:8080/"
        },
        "id": "Tp3HTylK2w8Z",
        "outputId": "0bab689f-1700-46d0-e188-21ca4b8654d8"
      },
      "source": [
        "# Connecting colab notebook to google drive\n",
        "from google.colab import drive\n",
        "drive.mount('/content/gdrive')"
      ],
      "execution_count": null,
      "outputs": [
        {
          "output_type": "stream",
          "text": [
            "Mounted at /content/gdrive\n"
          ],
          "name": "stdout"
        }
      ]
    },
    {
      "cell_type": "code",
      "metadata": {
        "colab": {
          "base_uri": "https://localhost:8080/"
        },
        "id": "UnWX6cQ8d_PU",
        "outputId": "6ea9dba6-f201-45f7-aa10-9fc60641b08c"
      },
      "source": [
        "#changing the working directory\n",
        "%cd /content/gdrive/MyDrive/Kaggle_Data/Shopee_Data\n",
        "#Check the present working directory using pwd command"
      ],
      "execution_count": null,
      "outputs": [
        {
          "output_type": "stream",
          "text": [
            "/content/gdrive/MyDrive/Kaggle_Data/Shopee_Data\n"
          ],
          "name": "stdout"
        }
      ]
    },
    {
      "cell_type": "markdown",
      "metadata": {
        "id": "mdRzXhdc4Fl7"
      },
      "source": [
        "## Libraries"
      ]
    },
    {
      "cell_type": "code",
      "metadata": {
        "colab": {
          "base_uri": "https://localhost:8080/",
          "height": 363
        },
        "id": "VDe4KSRgeJT6",
        "outputId": "fc5d087f-7fe3-4712-cf36-c7ec388c2ecb"
      },
      "source": [
        "import numpy as np, pandas as pd, gc\n",
        "import cv2, matplotlib.pyplot as plt\n",
        "import cudf, cuml, cupy\n",
        "from cuml.feature_extraction.text import TfidfVectorizer\n",
        "from cuml.neighbors import NearestNeighbors\n",
        "import tensorflow as tf\n",
        "from tensorflow.keras.applications import EfficientNetB0\n",
        "print('RAPIDS',cuml.__version__)\n",
        "print('TF',tf.__version__)"
      ],
      "execution_count": null,
      "outputs": [
        {
          "output_type": "error",
          "ename": "ModuleNotFoundError",
          "evalue": "ignored",
          "traceback": [
            "\u001b[0;31m---------------------------------------------------------------------------\u001b[0m",
            "\u001b[0;31mModuleNotFoundError\u001b[0m                       Traceback (most recent call last)",
            "\u001b[0;32m<ipython-input-1-ca60c1fefc7d>\u001b[0m in \u001b[0;36m<module>\u001b[0;34m()\u001b[0m\n\u001b[1;32m      1\u001b[0m \u001b[0;32mimport\u001b[0m \u001b[0mnumpy\u001b[0m \u001b[0;32mas\u001b[0m \u001b[0mnp\u001b[0m\u001b[0;34m,\u001b[0m \u001b[0mpandas\u001b[0m \u001b[0;32mas\u001b[0m \u001b[0mpd\u001b[0m\u001b[0;34m,\u001b[0m \u001b[0mgc\u001b[0m\u001b[0;34m\u001b[0m\u001b[0;34m\u001b[0m\u001b[0m\n\u001b[1;32m      2\u001b[0m \u001b[0;32mimport\u001b[0m \u001b[0mcv2\u001b[0m\u001b[0;34m,\u001b[0m \u001b[0mmatplotlib\u001b[0m\u001b[0;34m.\u001b[0m\u001b[0mpyplot\u001b[0m \u001b[0;32mas\u001b[0m \u001b[0mplt\u001b[0m\u001b[0;34m\u001b[0m\u001b[0;34m\u001b[0m\u001b[0m\n\u001b[0;32m----> 3\u001b[0;31m \u001b[0;32mimport\u001b[0m \u001b[0mcudf\u001b[0m\u001b[0;34m,\u001b[0m \u001b[0mcuml\u001b[0m\u001b[0;34m,\u001b[0m \u001b[0mcupy\u001b[0m\u001b[0;34m\u001b[0m\u001b[0;34m\u001b[0m\u001b[0m\n\u001b[0m\u001b[1;32m      4\u001b[0m \u001b[0;32mfrom\u001b[0m \u001b[0mcuml\u001b[0m\u001b[0;34m.\u001b[0m\u001b[0mfeature_extraction\u001b[0m\u001b[0;34m.\u001b[0m\u001b[0mtext\u001b[0m \u001b[0;32mimport\u001b[0m \u001b[0mTfidfVectorizer\u001b[0m\u001b[0;34m\u001b[0m\u001b[0;34m\u001b[0m\u001b[0m\n\u001b[1;32m      5\u001b[0m \u001b[0;32mfrom\u001b[0m \u001b[0mcuml\u001b[0m\u001b[0;34m.\u001b[0m\u001b[0mneighbors\u001b[0m \u001b[0;32mimport\u001b[0m \u001b[0mNearestNeighbors\u001b[0m\u001b[0;34m\u001b[0m\u001b[0;34m\u001b[0m\u001b[0m\n",
            "\u001b[0;31mModuleNotFoundError\u001b[0m: No module named 'cudf'",
            "",
            "\u001b[0;31m---------------------------------------------------------------------------\u001b[0;32m\nNOTE: If your import is failing due to a missing package, you can\nmanually install dependencies using either !pip or !apt.\n\nTo view examples of installing some common dependencies, click the\n\"Open Examples\" button below.\n\u001b[0;31m---------------------------------------------------------------------------\u001b[0m\n"
          ]
        }
      ]
    },
    {
      "cell_type": "markdown",
      "metadata": {
        "id": "1vwRf4Pn42qK"
      },
      "source": [
        "## Load Train Data\n",
        "\n"
      ]
    },
    {
      "cell_type": "code",
      "metadata": {
        "colab": {
          "base_uri": "https://localhost:8080/"
        },
        "id": "wGMwoesV4IZa",
        "outputId": "6609728a-d8fe-438e-ee75-857e6abc6065"
      },
      "source": [
        "COMPUTE_CV = True\n",
        "\n",
        "test = pd.read_csv('test.csv')\n",
        "if len(test)>3: COMPUTE_CV = False\n",
        "else: print('this submission notebook will compute CV score, but commit notebook will not')"
      ],
      "execution_count": null,
      "outputs": [
        {
          "output_type": "stream",
          "text": [
            "this submission notebook will compute CV score, but commit notebook will not\n"
          ],
          "name": "stdout"
        }
      ]
    },
    {
      "cell_type": "markdown",
      "metadata": {
        "id": "wJse96eK5aVc"
      },
      "source": [
        "Creating new target column in the dataset which group similar images using posting_id and label_group"
      ]
    },
    {
      "cell_type": "code",
      "metadata": {
        "colab": {
          "base_uri": "https://localhost:8080/",
          "height": 296
        },
        "id": "avnBhZ8i5Bz0",
        "outputId": "539e13fd-fb80-4501-c8ce-920544d83b1f"
      },
      "source": [
        "train = pd.read_csv('train.csv')\n",
        "tmp = train.groupby('label_group').posting_id.agg('unique').to_dict()\n",
        "train['target'] = train.label_group.map(tmp)\n",
        "print('train shape is', train.shape )\n",
        "train.head()"
      ],
      "execution_count": null,
      "outputs": [
        {
          "output_type": "stream",
          "text": [
            "train shape is (34250, 6)\n"
          ],
          "name": "stdout"
        },
        {
          "output_type": "execute_result",
          "data": {
            "text/html": [
              "<div>\n",
              "<style scoped>\n",
              "    .dataframe tbody tr th:only-of-type {\n",
              "        vertical-align: middle;\n",
              "    }\n",
              "\n",
              "    .dataframe tbody tr th {\n",
              "        vertical-align: top;\n",
              "    }\n",
              "\n",
              "    .dataframe thead th {\n",
              "        text-align: right;\n",
              "    }\n",
              "</style>\n",
              "<table border=\"1\" class=\"dataframe\">\n",
              "  <thead>\n",
              "    <tr style=\"text-align: right;\">\n",
              "      <th></th>\n",
              "      <th>posting_id</th>\n",
              "      <th>image</th>\n",
              "      <th>image_phash</th>\n",
              "      <th>title</th>\n",
              "      <th>label_group</th>\n",
              "      <th>target</th>\n",
              "    </tr>\n",
              "  </thead>\n",
              "  <tbody>\n",
              "    <tr>\n",
              "      <th>0</th>\n",
              "      <td>train_129225211</td>\n",
              "      <td>0000a68812bc7e98c42888dfb1c07da0.jpg</td>\n",
              "      <td>94974f937d4c2433</td>\n",
              "      <td>Paper Bag Victoria Secret</td>\n",
              "      <td>249114794</td>\n",
              "      <td>[train_129225211, train_2278313361]</td>\n",
              "    </tr>\n",
              "    <tr>\n",
              "      <th>1</th>\n",
              "      <td>train_3386243561</td>\n",
              "      <td>00039780dfc94d01db8676fe789ecd05.jpg</td>\n",
              "      <td>af3f9460c2838f0f</td>\n",
              "      <td>Double Tape 3M VHB 12 mm x 4,5 m ORIGINAL / DO...</td>\n",
              "      <td>2937985045</td>\n",
              "      <td>[train_3386243561, train_3423213080]</td>\n",
              "    </tr>\n",
              "    <tr>\n",
              "      <th>2</th>\n",
              "      <td>train_2288590299</td>\n",
              "      <td>000a190fdd715a2a36faed16e2c65df7.jpg</td>\n",
              "      <td>b94cb00ed3e50f78</td>\n",
              "      <td>Maling TTS Canned Pork Luncheon Meat 397 gr</td>\n",
              "      <td>2395904891</td>\n",
              "      <td>[train_2288590299, train_3803689425]</td>\n",
              "    </tr>\n",
              "    <tr>\n",
              "      <th>3</th>\n",
              "      <td>train_2406599165</td>\n",
              "      <td>00117e4fc239b1b641ff08340b429633.jpg</td>\n",
              "      <td>8514fc58eafea283</td>\n",
              "      <td>Daster Batik Lengan pendek - Motif Acak / Camp...</td>\n",
              "      <td>4093212188</td>\n",
              "      <td>[train_2406599165, train_3342059966]</td>\n",
              "    </tr>\n",
              "    <tr>\n",
              "      <th>4</th>\n",
              "      <td>train_3369186413</td>\n",
              "      <td>00136d1cf4edede0203f32f05f660588.jpg</td>\n",
              "      <td>a6f319f924ad708c</td>\n",
              "      <td>Nescafe \\xc3\\x89clair Latte 220ml</td>\n",
              "      <td>3648931069</td>\n",
              "      <td>[train_3369186413, train_921438619]</td>\n",
              "    </tr>\n",
              "  </tbody>\n",
              "</table>\n",
              "</div>"
            ],
            "text/plain": [
              "         posting_id  ...                                target\n",
              "0   train_129225211  ...   [train_129225211, train_2278313361]\n",
              "1  train_3386243561  ...  [train_3386243561, train_3423213080]\n",
              "2  train_2288590299  ...  [train_2288590299, train_3803689425]\n",
              "3  train_2406599165  ...  [train_2406599165, train_3342059966]\n",
              "4  train_3369186413  ...   [train_3369186413, train_921438619]\n",
              "\n",
              "[5 rows x 6 columns]"
            ]
          },
          "metadata": {
            "tags": []
          },
          "execution_count": 6
        }
      ]
    },
    {
      "cell_type": "markdown",
      "metadata": {
        "id": "Tu75652c5puc"
      },
      "source": [
        "## Compute Baseline CV Score\n",
        "\n",
        "A baseline is to predict all items with the same image_phash as being duplicate. Let's calcuate the f-score score  or ovelab index"
      ]
    },
    {
      "cell_type": "code",
      "metadata": {
        "id": "tUaY7kCd5LuI"
      },
      "source": [
        "tmp = train.groupby('image_phash').posting_id.agg('unique').to_dict()\n",
        "train['oof'] = train.image_phash.map(tmp)"
      ],
      "execution_count": null,
      "outputs": []
    },
    {
      "cell_type": "code",
      "metadata": {
        "colab": {
          "base_uri": "https://localhost:8080/",
          "height": 1000
        },
        "id": "OKbu1iqFGFT6",
        "outputId": "ae61841d-e276-44ff-910f-57ce5551f2ce"
      },
      "source": [
        "train"
      ],
      "execution_count": null,
      "outputs": [
        {
          "output_type": "execute_result",
          "data": {
            "text/html": [
              "<div>\n",
              "<style scoped>\n",
              "    .dataframe tbody tr th:only-of-type {\n",
              "        vertical-align: middle;\n",
              "    }\n",
              "\n",
              "    .dataframe tbody tr th {\n",
              "        vertical-align: top;\n",
              "    }\n",
              "\n",
              "    .dataframe thead th {\n",
              "        text-align: right;\n",
              "    }\n",
              "</style>\n",
              "<table border=\"1\" class=\"dataframe\">\n",
              "  <thead>\n",
              "    <tr style=\"text-align: right;\">\n",
              "      <th></th>\n",
              "      <th>posting_id</th>\n",
              "      <th>image</th>\n",
              "      <th>image_phash</th>\n",
              "      <th>title</th>\n",
              "      <th>label_group</th>\n",
              "      <th>target</th>\n",
              "      <th>oof</th>\n",
              "      <th>f1</th>\n",
              "    </tr>\n",
              "  </thead>\n",
              "  <tbody>\n",
              "    <tr>\n",
              "      <th>0</th>\n",
              "      <td>train_129225211</td>\n",
              "      <td>0000a68812bc7e98c42888dfb1c07da0.jpg</td>\n",
              "      <td>94974f937d4c2433</td>\n",
              "      <td>Paper Bag Victoria Secret</td>\n",
              "      <td>249114794</td>\n",
              "      <td>[train_129225211, train_2278313361]</td>\n",
              "      <td>[train_129225211]</td>\n",
              "      <td>0.666667</td>\n",
              "    </tr>\n",
              "    <tr>\n",
              "      <th>1</th>\n",
              "      <td>train_3386243561</td>\n",
              "      <td>00039780dfc94d01db8676fe789ecd05.jpg</td>\n",
              "      <td>af3f9460c2838f0f</td>\n",
              "      <td>Double Tape 3M VHB 12 mm x 4,5 m ORIGINAL / DO...</td>\n",
              "      <td>2937985045</td>\n",
              "      <td>[train_3386243561, train_3423213080]</td>\n",
              "      <td>[train_3386243561]</td>\n",
              "      <td>0.666667</td>\n",
              "    </tr>\n",
              "    <tr>\n",
              "      <th>2</th>\n",
              "      <td>train_2288590299</td>\n",
              "      <td>000a190fdd715a2a36faed16e2c65df7.jpg</td>\n",
              "      <td>b94cb00ed3e50f78</td>\n",
              "      <td>Maling TTS Canned Pork Luncheon Meat 397 gr</td>\n",
              "      <td>2395904891</td>\n",
              "      <td>[train_2288590299, train_3803689425]</td>\n",
              "      <td>[train_2288590299]</td>\n",
              "      <td>0.666667</td>\n",
              "    </tr>\n",
              "    <tr>\n",
              "      <th>3</th>\n",
              "      <td>train_2406599165</td>\n",
              "      <td>00117e4fc239b1b641ff08340b429633.jpg</td>\n",
              "      <td>8514fc58eafea283</td>\n",
              "      <td>Daster Batik Lengan pendek - Motif Acak / Camp...</td>\n",
              "      <td>4093212188</td>\n",
              "      <td>[train_2406599165, train_3342059966]</td>\n",
              "      <td>[train_2406599165]</td>\n",
              "      <td>0.666667</td>\n",
              "    </tr>\n",
              "    <tr>\n",
              "      <th>4</th>\n",
              "      <td>train_3369186413</td>\n",
              "      <td>00136d1cf4edede0203f32f05f660588.jpg</td>\n",
              "      <td>a6f319f924ad708c</td>\n",
              "      <td>Nescafe \\xc3\\x89clair Latte 220ml</td>\n",
              "      <td>3648931069</td>\n",
              "      <td>[train_3369186413, train_921438619]</td>\n",
              "      <td>[train_3369186413]</td>\n",
              "      <td>0.666667</td>\n",
              "    </tr>\n",
              "    <tr>\n",
              "      <th>...</th>\n",
              "      <td>...</td>\n",
              "      <td>...</td>\n",
              "      <td>...</td>\n",
              "      <td>...</td>\n",
              "      <td>...</td>\n",
              "      <td>...</td>\n",
              "      <td>...</td>\n",
              "      <td>...</td>\n",
              "    </tr>\n",
              "    <tr>\n",
              "      <th>34245</th>\n",
              "      <td>train_4028265689</td>\n",
              "      <td>fff1c07ceefc2c970a7964cfb81981c5.jpg</td>\n",
              "      <td>e3cd72389f248f21</td>\n",
              "      <td>Masker Bahan Kain Spunbond Non Woven 75 gsm 3 ...</td>\n",
              "      <td>3776555725</td>\n",
              "      <td>[train_2829161572, train_4028265689]</td>\n",
              "      <td>[train_4028265689]</td>\n",
              "      <td>0.666667</td>\n",
              "    </tr>\n",
              "    <tr>\n",
              "      <th>34246</th>\n",
              "      <td>train_769054909</td>\n",
              "      <td>fff401691371bdcb382a0d9075dfea6a.jpg</td>\n",
              "      <td>be86851f72e2853c</td>\n",
              "      <td>MamyPoko Pants Royal Soft - S 70 - Popok Celana</td>\n",
              "      <td>2736479533</td>\n",
              "      <td>[train_1463059254, train_769054909]</td>\n",
              "      <td>[train_769054909]</td>\n",
              "      <td>0.666667</td>\n",
              "    </tr>\n",
              "    <tr>\n",
              "      <th>34247</th>\n",
              "      <td>train_614977732</td>\n",
              "      <td>fff421b78fa7284284724baf249f522e.jpg</td>\n",
              "      <td>ad27f0d08c0fcbf0</td>\n",
              "      <td>KHANZAACC Robot RE101S 1.2mm Subwoofer Bass Me...</td>\n",
              "      <td>4101248785</td>\n",
              "      <td>[train_4126022211, train_3926241003, train_232...</td>\n",
              "      <td>[train_614977732]</td>\n",
              "      <td>0.200000</td>\n",
              "    </tr>\n",
              "    <tr>\n",
              "      <th>34248</th>\n",
              "      <td>train_3630949769</td>\n",
              "      <td>fff51b87916dbfb6d0f8faa01bee67b8.jpg</td>\n",
              "      <td>e3b13bd1d896c05c</td>\n",
              "      <td>Kaldu NON MSG HALAL Mama Kamu Ayam Kampung , S...</td>\n",
              "      <td>1663538013</td>\n",
              "      <td>[train_3419392575, train_1431563868, train_363...</td>\n",
              "      <td>[train_3630949769]</td>\n",
              "      <td>0.500000</td>\n",
              "    </tr>\n",
              "    <tr>\n",
              "      <th>34249</th>\n",
              "      <td>train_1792180725</td>\n",
              "      <td>ffffa0ab2ae542357671e96254fa7167.jpg</td>\n",
              "      <td>af8bc4b2d2cf9083</td>\n",
              "      <td>FLEX TAPE PELAPIS BOCOR / ISOLASI AJAIB / ANTI...</td>\n",
              "      <td>459464107</td>\n",
              "      <td>[train_795128312, train_1792180725]</td>\n",
              "      <td>[train_1792180725]</td>\n",
              "      <td>0.666667</td>\n",
              "    </tr>\n",
              "  </tbody>\n",
              "</table>\n",
              "<p>34250 rows × 8 columns</p>\n",
              "</div>"
            ],
            "text/plain": [
              "             posting_id  ...        f1\n",
              "0       train_129225211  ...  0.666667\n",
              "1      train_3386243561  ...  0.666667\n",
              "2      train_2288590299  ...  0.666667\n",
              "3      train_2406599165  ...  0.666667\n",
              "4      train_3369186413  ...  0.666667\n",
              "...                 ...  ...       ...\n",
              "34245  train_4028265689  ...  0.666667\n",
              "34246   train_769054909  ...  0.666667\n",
              "34247   train_614977732  ...  0.200000\n",
              "34248  train_3630949769  ...  0.500000\n",
              "34249  train_1792180725  ...  0.666667\n",
              "\n",
              "[34250 rows x 8 columns]"
            ]
          },
          "metadata": {
            "tags": []
          },
          "execution_count": 11
        }
      ]
    },
    {
      "cell_type": "code",
      "metadata": {
        "id": "UU3SLPz15y6_"
      },
      "source": [
        "def getMetric(col):\n",
        "    def f1score(row):\n",
        "        n = len( np.intersect1d(row.target,row[col]) )\n",
        "        return 2*n / (len(row.target)+len(row[col]))\n",
        "    return f1score"
      ],
      "execution_count": null,
      "outputs": []
    },
    {
      "cell_type": "code",
      "metadata": {
        "id": "dOMj4OaYpAME"
      },
      "source": [
        ""
      ],
      "execution_count": null,
      "outputs": []
    },
    {
      "cell_type": "code",
      "metadata": {
        "id": "0M-T7TgJlnXa"
      },
      "source": [
        "def getaccuracy(col):\n",
        "    def accur(row):\n",
        "        n = len( np.intersect1d(row.target,row[col]) )\n",
        "        return 100*n / len(row.target)\n",
        "    return accur"
      ],
      "execution_count": null,
      "outputs": []
    },
    {
      "cell_type": "code",
      "metadata": {
        "colab": {
          "base_uri": "https://localhost:8080/"
        },
        "id": "q5rWvNjDpMG5",
        "outputId": "f3a5fcf0-39cb-4615-b296-ff8d1568200e"
      },
      "source": [
        "train['accuracy']=train.apply(getaccuracy('oof'),axis=1)\n",
        "print('Accuracy for baseline=',train.accuracy.mean())"
      ],
      "execution_count": null,
      "outputs": [
        {
          "output_type": "stream",
          "text": [
            "Accuracy for baseline= 42.21722749534489\n"
          ],
          "name": "stdout"
        }
      ]
    },
    {
      "cell_type": "code",
      "metadata": {
        "colab": {
          "base_uri": "https://localhost:8080/",
          "height": 602
        },
        "id": "YSZtCtp6qIbb",
        "outputId": "f7d01f84-48ec-4aa5-e9f3-567cbd47df43"
      },
      "source": [
        "train.tail(5)"
      ],
      "execution_count": null,
      "outputs": [
        {
          "output_type": "execute_result",
          "data": {
            "text/html": [
              "<div>\n",
              "<style scoped>\n",
              "    .dataframe tbody tr th:only-of-type {\n",
              "        vertical-align: middle;\n",
              "    }\n",
              "\n",
              "    .dataframe tbody tr th {\n",
              "        vertical-align: top;\n",
              "    }\n",
              "\n",
              "    .dataframe thead th {\n",
              "        text-align: right;\n",
              "    }\n",
              "</style>\n",
              "<table border=\"1\" class=\"dataframe\">\n",
              "  <thead>\n",
              "    <tr style=\"text-align: right;\">\n",
              "      <th></th>\n",
              "      <th>posting_id</th>\n",
              "      <th>image</th>\n",
              "      <th>image_phash</th>\n",
              "      <th>title</th>\n",
              "      <th>label_group</th>\n",
              "      <th>target</th>\n",
              "      <th>oof</th>\n",
              "      <th>f1</th>\n",
              "      <th>accuracy</th>\n",
              "    </tr>\n",
              "  </thead>\n",
              "  <tbody>\n",
              "    <tr>\n",
              "      <th>34245</th>\n",
              "      <td>train_4028265689</td>\n",
              "      <td>fff1c07ceefc2c970a7964cfb81981c5.jpg</td>\n",
              "      <td>e3cd72389f248f21</td>\n",
              "      <td>Masker Bahan Kain Spunbond Non Woven 75 gsm 3 ...</td>\n",
              "      <td>3776555725</td>\n",
              "      <td>[train_2829161572, train_4028265689]</td>\n",
              "      <td>[train_4028265689]</td>\n",
              "      <td>0.666667</td>\n",
              "      <td>50.000000</td>\n",
              "    </tr>\n",
              "    <tr>\n",
              "      <th>34246</th>\n",
              "      <td>train_769054909</td>\n",
              "      <td>fff401691371bdcb382a0d9075dfea6a.jpg</td>\n",
              "      <td>be86851f72e2853c</td>\n",
              "      <td>MamyPoko Pants Royal Soft - S 70 - Popok Celana</td>\n",
              "      <td>2736479533</td>\n",
              "      <td>[train_1463059254, train_769054909]</td>\n",
              "      <td>[train_769054909]</td>\n",
              "      <td>0.666667</td>\n",
              "      <td>50.000000</td>\n",
              "    </tr>\n",
              "    <tr>\n",
              "      <th>34247</th>\n",
              "      <td>train_614977732</td>\n",
              "      <td>fff421b78fa7284284724baf249f522e.jpg</td>\n",
              "      <td>ad27f0d08c0fcbf0</td>\n",
              "      <td>KHANZAACC Robot RE101S 1.2mm Subwoofer Bass Me...</td>\n",
              "      <td>4101248785</td>\n",
              "      <td>[train_4126022211, train_3926241003, train_232...</td>\n",
              "      <td>[train_614977732]</td>\n",
              "      <td>0.200000</td>\n",
              "      <td>11.111111</td>\n",
              "    </tr>\n",
              "    <tr>\n",
              "      <th>34248</th>\n",
              "      <td>train_3630949769</td>\n",
              "      <td>fff51b87916dbfb6d0f8faa01bee67b8.jpg</td>\n",
              "      <td>e3b13bd1d896c05c</td>\n",
              "      <td>Kaldu NON MSG HALAL Mama Kamu Ayam Kampung , S...</td>\n",
              "      <td>1663538013</td>\n",
              "      <td>[train_3419392575, train_1431563868, train_363...</td>\n",
              "      <td>[train_3630949769]</td>\n",
              "      <td>0.500000</td>\n",
              "      <td>33.333333</td>\n",
              "    </tr>\n",
              "    <tr>\n",
              "      <th>34249</th>\n",
              "      <td>train_1792180725</td>\n",
              "      <td>ffffa0ab2ae542357671e96254fa7167.jpg</td>\n",
              "      <td>af8bc4b2d2cf9083</td>\n",
              "      <td>FLEX TAPE PELAPIS BOCOR / ISOLASI AJAIB / ANTI...</td>\n",
              "      <td>459464107</td>\n",
              "      <td>[train_795128312, train_1792180725]</td>\n",
              "      <td>[train_1792180725]</td>\n",
              "      <td>0.666667</td>\n",
              "      <td>50.000000</td>\n",
              "    </tr>\n",
              "  </tbody>\n",
              "</table>\n",
              "</div>"
            ],
            "text/plain": [
              "             posting_id  ...   accuracy\n",
              "34245  train_4028265689  ...  50.000000\n",
              "34246   train_769054909  ...  50.000000\n",
              "34247   train_614977732  ...  11.111111\n",
              "34248  train_3630949769  ...  33.333333\n",
              "34249  train_1792180725  ...  50.000000\n",
              "\n",
              "[5 rows x 9 columns]"
            ]
          },
          "metadata": {
            "tags": []
          },
          "execution_count": 20
        }
      ]
    },
    {
      "cell_type": "code",
      "metadata": {
        "colab": {
          "base_uri": "https://localhost:8080/"
        },
        "id": "AV-p4tZtPFv0",
        "outputId": "d3097418-1ab9-4266-a383-7ef253757a1b"
      },
      "source": [
        "train['f1']=train.apply(getMetric('oof'),axis=1)\n",
        "print('CV score for baseline=',train.f1.mean())\n"
      ],
      "execution_count": null,
      "outputs": [
        {
          "output_type": "stream",
          "text": [
            "CV score for baseline= 0.5530933399167943\n"
          ],
          "name": "stdout"
        }
      ]
    },
    {
      "cell_type": "code",
      "metadata": {
        "colab": {
          "base_uri": "https://localhost:8080/"
        },
        "id": "H98XYrWU53H3",
        "outputId": "2c843069-b3d8-42a8-824c-e7d0cbbd93f3"
      },
      "source": [
        "train['f1'] = train.apply(getMetric('oof'),axis=1)\n",
        "print('CV score for baseline =',train.f1.mean())"
      ],
      "execution_count": null,
      "outputs": [
        {
          "output_type": "stream",
          "text": [
            "CV score for baseline = 0.5530933399167943\n"
          ],
          "name": "stdout"
        }
      ]
    },
    {
      "cell_type": "code",
      "metadata": {
        "colab": {
          "base_uri": "https://localhost:8080/",
          "height": 414
        },
        "id": "X1Uize-A56V9",
        "outputId": "4d71cadc-f810-49e6-fe60-795a50094238"
      },
      "source": [
        "train.head()"
      ],
      "execution_count": null,
      "outputs": [
        {
          "output_type": "execute_result",
          "data": {
            "text/html": [
              "<div>\n",
              "<style scoped>\n",
              "    .dataframe tbody tr th:only-of-type {\n",
              "        vertical-align: middle;\n",
              "    }\n",
              "\n",
              "    .dataframe tbody tr th {\n",
              "        vertical-align: top;\n",
              "    }\n",
              "\n",
              "    .dataframe thead th {\n",
              "        text-align: right;\n",
              "    }\n",
              "</style>\n",
              "<table border=\"1\" class=\"dataframe\">\n",
              "  <thead>\n",
              "    <tr style=\"text-align: right;\">\n",
              "      <th></th>\n",
              "      <th>posting_id</th>\n",
              "      <th>image</th>\n",
              "      <th>image_phash</th>\n",
              "      <th>title</th>\n",
              "      <th>label_group</th>\n",
              "      <th>target</th>\n",
              "      <th>oof</th>\n",
              "      <th>f1</th>\n",
              "    </tr>\n",
              "  </thead>\n",
              "  <tbody>\n",
              "    <tr>\n",
              "      <th>0</th>\n",
              "      <td>train_129225211</td>\n",
              "      <td>0000a68812bc7e98c42888dfb1c07da0.jpg</td>\n",
              "      <td>94974f937d4c2433</td>\n",
              "      <td>Paper Bag Victoria Secret</td>\n",
              "      <td>249114794</td>\n",
              "      <td>[train_129225211, train_2278313361]</td>\n",
              "      <td>[train_129225211]</td>\n",
              "      <td>0.666667</td>\n",
              "    </tr>\n",
              "    <tr>\n",
              "      <th>1</th>\n",
              "      <td>train_3386243561</td>\n",
              "      <td>00039780dfc94d01db8676fe789ecd05.jpg</td>\n",
              "      <td>af3f9460c2838f0f</td>\n",
              "      <td>Double Tape 3M VHB 12 mm x 4,5 m ORIGINAL / DO...</td>\n",
              "      <td>2937985045</td>\n",
              "      <td>[train_3386243561, train_3423213080]</td>\n",
              "      <td>[train_3386243561]</td>\n",
              "      <td>0.666667</td>\n",
              "    </tr>\n",
              "    <tr>\n",
              "      <th>2</th>\n",
              "      <td>train_2288590299</td>\n",
              "      <td>000a190fdd715a2a36faed16e2c65df7.jpg</td>\n",
              "      <td>b94cb00ed3e50f78</td>\n",
              "      <td>Maling TTS Canned Pork Luncheon Meat 397 gr</td>\n",
              "      <td>2395904891</td>\n",
              "      <td>[train_2288590299, train_3803689425]</td>\n",
              "      <td>[train_2288590299]</td>\n",
              "      <td>0.666667</td>\n",
              "    </tr>\n",
              "    <tr>\n",
              "      <th>3</th>\n",
              "      <td>train_2406599165</td>\n",
              "      <td>00117e4fc239b1b641ff08340b429633.jpg</td>\n",
              "      <td>8514fc58eafea283</td>\n",
              "      <td>Daster Batik Lengan pendek - Motif Acak / Camp...</td>\n",
              "      <td>4093212188</td>\n",
              "      <td>[train_2406599165, train_3342059966]</td>\n",
              "      <td>[train_2406599165]</td>\n",
              "      <td>0.666667</td>\n",
              "    </tr>\n",
              "    <tr>\n",
              "      <th>4</th>\n",
              "      <td>train_3369186413</td>\n",
              "      <td>00136d1cf4edede0203f32f05f660588.jpg</td>\n",
              "      <td>a6f319f924ad708c</td>\n",
              "      <td>Nescafe \\xc3\\x89clair Latte 220ml</td>\n",
              "      <td>3648931069</td>\n",
              "      <td>[train_3369186413, train_921438619]</td>\n",
              "      <td>[train_3369186413]</td>\n",
              "      <td>0.666667</td>\n",
              "    </tr>\n",
              "  </tbody>\n",
              "</table>\n",
              "</div>"
            ],
            "text/plain": [
              "         posting_id  ...        f1\n",
              "0   train_129225211  ...  0.666667\n",
              "1  train_3386243561  ...  0.666667\n",
              "2  train_2288590299  ...  0.666667\n",
              "3  train_2406599165  ...  0.666667\n",
              "4  train_3369186413  ...  0.666667\n",
              "\n",
              "[5 rows x 8 columns]"
            ]
          },
          "metadata": {
            "tags": []
          },
          "execution_count": 10
        }
      ]
    },
    {
      "cell_type": "markdown",
      "metadata": {
        "id": "l2GizNm07Gj9"
      },
      "source": [
        "## Compute RAPIDS Model CV and Infer Submission\n",
        "We will now use image embeddings, text embeddings, and phash to create a better model with better f-score."
      ]
    },
    {
      "cell_type": "code",
      "metadata": {
        "colab": {
          "base_uri": "https://localhost:8080/",
          "height": 212
        },
        "id": "kk9a1sPc6Y4C",
        "outputId": "02592ef4-5088-4a36-e5b6-38890a7ee599"
      },
      "source": [
        "if COMPUTE_CV:\n",
        "    test = pd.read_csv('train.csv')\n",
        "    test_gf = cudf.DataFrame(test)\n",
        "    print('Using train as test to compute CV (since commit notebook). Shape is', test_gf.shape )\n",
        "else:\n",
        "    test = pd.read_csv('test.csv')\n",
        "    test_gf = cudf.read_csv('test.csv')\n",
        "    print('Test shape is', test_gf.shape )\n",
        "test_gf.head()"
      ],
      "execution_count": null,
      "outputs": [
        {
          "output_type": "stream",
          "text": [
            "Using train as test to compute CV (since commit notebook). Shape is (34250, 5)\n"
          ],
          "name": "stdout"
        },
        {
          "output_type": "execute_result",
          "data": {
            "text/html": [
              "<div>\n",
              "<style scoped>\n",
              "    .dataframe tbody tr th:only-of-type {\n",
              "        vertical-align: middle;\n",
              "    }\n",
              "\n",
              "    .dataframe tbody tr th {\n",
              "        vertical-align: top;\n",
              "    }\n",
              "\n",
              "    .dataframe thead th {\n",
              "        text-align: right;\n",
              "    }\n",
              "</style>\n",
              "<table border=\"1\" class=\"dataframe\">\n",
              "  <thead>\n",
              "    <tr style=\"text-align: right;\">\n",
              "      <th></th>\n",
              "      <th>posting_id</th>\n",
              "      <th>image</th>\n",
              "      <th>image_phash</th>\n",
              "      <th>title</th>\n",
              "      <th>label_group</th>\n",
              "    </tr>\n",
              "  </thead>\n",
              "  <tbody>\n",
              "    <tr>\n",
              "      <th>0</th>\n",
              "      <td>train_129225211</td>\n",
              "      <td>0000a68812bc7e98c42888dfb1c07da0.jpg</td>\n",
              "      <td>94974f937d4c2433</td>\n",
              "      <td>Paper Bag Victoria Secret</td>\n",
              "      <td>249114794</td>\n",
              "    </tr>\n",
              "    <tr>\n",
              "      <th>1</th>\n",
              "      <td>train_3386243561</td>\n",
              "      <td>00039780dfc94d01db8676fe789ecd05.jpg</td>\n",
              "      <td>af3f9460c2838f0f</td>\n",
              "      <td>Double Tape 3M VHB 12 mm x 4,5 m ORIGINAL / DO...</td>\n",
              "      <td>2937985045</td>\n",
              "    </tr>\n",
              "    <tr>\n",
              "      <th>2</th>\n",
              "      <td>train_2288590299</td>\n",
              "      <td>000a190fdd715a2a36faed16e2c65df7.jpg</td>\n",
              "      <td>b94cb00ed3e50f78</td>\n",
              "      <td>Maling TTS Canned Pork Luncheon Meat 397 gr</td>\n",
              "      <td>2395904891</td>\n",
              "    </tr>\n",
              "    <tr>\n",
              "      <th>3</th>\n",
              "      <td>train_2406599165</td>\n",
              "      <td>00117e4fc239b1b641ff08340b429633.jpg</td>\n",
              "      <td>8514fc58eafea283</td>\n",
              "      <td>Daster Batik Lengan pendek - Motif Acak / Camp...</td>\n",
              "      <td>4093212188</td>\n",
              "    </tr>\n",
              "    <tr>\n",
              "      <th>4</th>\n",
              "      <td>train_3369186413</td>\n",
              "      <td>00136d1cf4edede0203f32f05f660588.jpg</td>\n",
              "      <td>a6f319f924ad708c</td>\n",
              "      <td>Nescafe \\xc3\\x89clair Latte 220ml</td>\n",
              "      <td>3648931069</td>\n",
              "    </tr>\n",
              "  </tbody>\n",
              "</table>\n",
              "</div>"
            ],
            "text/plain": [
              "         posting_id  ... label_group\n",
              "0   train_129225211  ...   249114794\n",
              "1  train_3386243561  ...  2937985045\n",
              "2  train_2288590299  ...  2395904891\n",
              "3  train_2406599165  ...  4093212188\n",
              "4  train_3369186413  ...  3648931069\n",
              "\n",
              "[5 rows x 5 columns]"
            ]
          },
          "metadata": {
            "tags": []
          },
          "execution_count": 10
        }
      ]
    },
    {
      "cell_type": "markdown",
      "metadata": {
        "id": "3UjSKHxEozFJ"
      },
      "source": [
        "## Use Image Embeddings\n",
        "To prevent memory errors, we will compute image embeddings in chunks. And we will find similar images with RAPIDS cuML KNN in chunks."
      ]
    },
    {
      "cell_type": "code",
      "metadata": {
        "id": "r7OBdSbOmvjL",
        "colab": {
          "base_uri": "https://localhost:8080/",
          "height": 239
        },
        "outputId": "41f67be9-eef2-43ee-f4b6-a1249208bf50"
      },
      "source": [
        "class DataGenerator(tf.keras.utils.Sequence):\n",
        "    'Generates data for Keras'\n",
        "    def __init__(self, df, img_size=256, batch_size=32, path=''): \n",
        "        self.df = df\n",
        "        self.img_size = img_size\n",
        "        self.batch_size = batch_size\n",
        "        self.path = path\n",
        "        self.indexes = np.arange( len(self.df) )\n",
        "        \n",
        "    def __len__(self):\n",
        "        'Denotes the number of batches per epoch'\n",
        "        ct = len(self.df) // self.batch_size\n",
        "        ct += int(( (len(self.df)) % self.batch_size)!=0)\n",
        "        return ct\n",
        "\n",
        "    def __getitem__(self, index):\n",
        "        'Generate one batch of data'\n",
        "        indexes = self.indexes[index*self.batch_size:(index+1)*self.batch_size]\n",
        "        X = self.__data_generation(indexes)\n",
        "        return X\n",
        "            \n",
        "    def __data_generation(self, indexes):\n",
        "        'Generates data containing batch_size samples' \n",
        "        X = np.zeros((len(indexes),self.img_size,self.img_size,3),dtype='float32')\n",
        "        df = self.df.iloc[indexes]\n",
        "        for i,(index,row) in enumerate(df.iterrows()):\n",
        "            img = cv2.imread(self.path+row.image)\n",
        "            X[i,] = cv2.resize(img,(self.img_size,self.img_size)) #/128.0 - 1.0\n",
        "        return X"
      ],
      "execution_count": 1,
      "outputs": [
        {
          "output_type": "error",
          "ename": "NameError",
          "evalue": "ignored",
          "traceback": [
            "\u001b[0;31m---------------------------------------------------------------------------\u001b[0m",
            "\u001b[0;31mNameError\u001b[0m                                 Traceback (most recent call last)",
            "\u001b[0;32m<ipython-input-1-d01fd3b36be9>\u001b[0m in \u001b[0;36m<module>\u001b[0;34m()\u001b[0m\n\u001b[0;32m----> 1\u001b[0;31m \u001b[0;32mclass\u001b[0m \u001b[0mDataGenerator\u001b[0m\u001b[0;34m(\u001b[0m\u001b[0mtf\u001b[0m\u001b[0;34m.\u001b[0m\u001b[0mkeras\u001b[0m\u001b[0;34m.\u001b[0m\u001b[0mutils\u001b[0m\u001b[0;34m.\u001b[0m\u001b[0mSequence\u001b[0m\u001b[0;34m)\u001b[0m\u001b[0;34m:\u001b[0m\u001b[0;34m\u001b[0m\u001b[0;34m\u001b[0m\u001b[0m\n\u001b[0m\u001b[1;32m      2\u001b[0m     \u001b[0;34m'Generates data for Keras'\u001b[0m\u001b[0;34m\u001b[0m\u001b[0;34m\u001b[0m\u001b[0m\n\u001b[1;32m      3\u001b[0m     \u001b[0;32mdef\u001b[0m \u001b[0m__init__\u001b[0m\u001b[0;34m(\u001b[0m\u001b[0mself\u001b[0m\u001b[0;34m,\u001b[0m \u001b[0mdf\u001b[0m\u001b[0;34m,\u001b[0m \u001b[0mimg_size\u001b[0m\u001b[0;34m=\u001b[0m\u001b[0;36m256\u001b[0m\u001b[0;34m,\u001b[0m \u001b[0mbatch_size\u001b[0m\u001b[0;34m=\u001b[0m\u001b[0;36m32\u001b[0m\u001b[0;34m,\u001b[0m \u001b[0mpath\u001b[0m\u001b[0;34m=\u001b[0m\u001b[0;34m''\u001b[0m\u001b[0;34m)\u001b[0m\u001b[0;34m:\u001b[0m\u001b[0;34m\u001b[0m\u001b[0;34m\u001b[0m\u001b[0m\n\u001b[1;32m      4\u001b[0m         \u001b[0mself\u001b[0m\u001b[0;34m.\u001b[0m\u001b[0mdf\u001b[0m \u001b[0;34m=\u001b[0m \u001b[0mdf\u001b[0m\u001b[0;34m\u001b[0m\u001b[0;34m\u001b[0m\u001b[0m\n\u001b[1;32m      5\u001b[0m         \u001b[0mself\u001b[0m\u001b[0;34m.\u001b[0m\u001b[0mimg_size\u001b[0m \u001b[0;34m=\u001b[0m \u001b[0mimg_size\u001b[0m\u001b[0;34m\u001b[0m\u001b[0;34m\u001b[0m\u001b[0m\n",
            "\u001b[0;31mNameError\u001b[0m: name 'tf' is not defined"
          ]
        }
      ]
    },
    {
      "cell_type": "code",
      "metadata": {
        "id": "LBbMPMaxo_dg"
      },
      "source": [
        "BASE = 'test_images/'\n",
        "if COMPUTE_CV: BASE = 'train_images/'\n",
        "\n",
        "WGT = 'efficientnetb0_notop.h5'\n",
        "model = EfficientNetB0(weights=WGT,include_top=False, pooling='avg', input_shape=None)\n",
        "\n",
        "embeds = []\n",
        "CHUNK = 1024*4\n",
        "\n",
        "print('Computing image embeddings...')\n",
        "CTS = len(test)//CHUNK\n",
        "if len(test)%CHUNK!=0: CTS += 1\n",
        "for i,j in enumerate( range( CTS ) ):\n",
        "    \n",
        "    a = j*CHUNK\n",
        "    b = (j+1)*CHUNK\n",
        "    b = min(b,len(test))\n",
        "    print('chunk',a,'to',b)\n",
        "    \n",
        "    test_gen = DataGenerator(test.iloc[a:b], batch_size=32, path=BASE)\n",
        "    image_embeddings = model.predict(test_gen,verbose=1,use_multiprocessing=True, workers=4)\n",
        "    embeds.append(image_embeddings)\n",
        "\n",
        "    #if i>=1: break\n",
        "    \n",
        "del model\n",
        "_ = gc.collect()\n",
        "image_embeddings = np.concatenate(embeds)\n",
        "print('image embeddings shape',image_embeddings.shape)"
      ],
      "execution_count": null,
      "outputs": []
    },
    {
      "cell_type": "code",
      "metadata": {
        "id": "XJImWCykpWtI"
      },
      "source": [
        "KNN = 50\n",
        "if len(test)==3: KNN = 2\n",
        "model = NearestNeighbors(n_neighbors=KNN)\n",
        "model.fit(image_embeddings)"
      ],
      "execution_count": null,
      "outputs": []
    },
    {
      "cell_type": "code",
      "metadata": {
        "id": "fufABBnXHE-2"
      },
      "source": [
        "preds = []\n",
        "CHUNK = 1024*4\n",
        "\n",
        "print('Finding similar images...')\n",
        "CTS = len(image_embeddings)//CHUNK\n",
        "if len(image_embeddings)%CHUNK!=0: CTS += 1\n",
        "for j in range( CTS ):\n",
        "    \n",
        "    a = j*CHUNK\n",
        "    b = (j+1)*CHUNK\n",
        "    b = min(b,len(image_embeddings))\n",
        "    print('chunk',a,'to',b)\n",
        "    distances, indices = model.kneighbors(image_embeddings[a:b,])\n",
        "    \n",
        "    for k in range(b-a):\n",
        "        IDX = np.where(distances[k,]<6.0)[0]\n",
        "        IDS = indices[k,IDX]\n",
        "        o = test.iloc[IDS].posting_id.values\n",
        "        preds.append(o)\n",
        "        \n",
        "del model, distances, indices, image_embeddings, embeds\n",
        "_ = gc.collect()"
      ],
      "execution_count": null,
      "outputs": []
    },
    {
      "cell_type": "code",
      "metadata": {
        "id": "psypobSvHLe7"
      },
      "source": [
        "test['preds2'] = preds\n",
        "test.head()"
      ],
      "execution_count": null,
      "outputs": []
    },
    {
      "cell_type": "code",
      "metadata": {
        "id": "oiTRPHlPxfj8"
      },
      "source": [
        "    tmp = test.groupby('label_group').posting_id.agg('unique').to_dict()\n",
        "    test['target'] = test.label_group.map(tmp)\n",
        "    test['f1_preds2'] = test.apply(getMetric('preds2'),axis=1)\n",
        "    print('CV Score =', test.f1_preds2.mean() )\n",
        "\n"
      ],
      "execution_count": null,
      "outputs": []
    },
    {
      "cell_type": "code",
      "metadata": {
        "id": "GFnCj_bp6TWY"
      },
      "source": [
        "del test['f1_preds2']\n",
        "del test['target']"
      ],
      "execution_count": null,
      "outputs": []
    },
    {
      "cell_type": "markdown",
      "metadata": {
        "id": "7v3qYzVTHuKW"
      },
      "source": [
        "## Use Text Embeddings\n",
        "To prevent memory errors, we will find similar titles in chunks. To faciliate this, we will use cosine similarity between text embeddings instead of KNN."
      ]
    },
    {
      "cell_type": "code",
      "metadata": {
        "colab": {
          "base_uri": "https://localhost:8080/"
        },
        "id": "QRvjsOFhHx4l",
        "outputId": "94841aa7-b743-4295-be34-7e84f20114bf"
      },
      "source": [
        "print('Computing text embeddings...')\n",
        "model = TfidfVectorizer(stop_words='english', binary=True, max_features=25_000)\n",
        "text_embeddings = model.fit_transform(test_gf.title).toarray()\n",
        "print('text embeddings shape',text_embeddings.shape)"
      ],
      "execution_count": null,
      "outputs": [
        {
          "output_type": "stream",
          "text": [
            "Computing text embeddings...\n",
            "text embeddings shape (34250, 24939)\n"
          ],
          "name": "stdout"
        }
      ]
    },
    {
      "cell_type": "code",
      "metadata": {
        "colab": {
          "base_uri": "https://localhost:8080/"
        },
        "id": "HSAx4gGIH0Jd",
        "outputId": "a917fa93-6274-4ba1-aeed-b33e20cf46e6"
      },
      "source": [
        "preds = []\n",
        "CHUNK = 1024*4\n",
        "\n",
        "print('Finding similar titles...')\n",
        "CTS = len(test)//CHUNK\n",
        "if len(test)%CHUNK!=0: CTS += 1\n",
        "for j in range( CTS ):\n",
        "    \n",
        "    a = j*CHUNK\n",
        "    b = (j+1)*CHUNK\n",
        "    b = min(b,len(test))\n",
        "    print('chunk',a,'to',b)\n",
        "    \n",
        "    # COSINE SIMILARITY DISTANCE\n",
        "    cts = cupy.matmul( text_embeddings, text_embeddings[a:b].T).T\n",
        "    \n",
        "    for k in range(b-a):\n",
        "        IDX = cupy.where(cts[k,]>0.7)[0]\n",
        "        o = test.iloc[cupy.asnumpy(IDX)].posting_id.values\n",
        "        preds.append(o)\n",
        "        \n",
        "del model, text_embeddings\n",
        "_ = gc.collect()"
      ],
      "execution_count": null,
      "outputs": [
        {
          "output_type": "stream",
          "text": [
            "Finding similar titles...\n",
            "chunk 0 to 4096\n",
            "chunk 4096 to 8192\n",
            "chunk 8192 to 12288\n",
            "chunk 12288 to 16384\n",
            "chunk 16384 to 20480\n",
            "chunk 20480 to 24576\n",
            "chunk 24576 to 28672\n",
            "chunk 28672 to 32768\n",
            "chunk 32768 to 34250\n"
          ],
          "name": "stdout"
        }
      ]
    },
    {
      "cell_type": "code",
      "metadata": {
        "colab": {
          "base_uri": "https://localhost:8080/",
          "height": 501
        },
        "id": "hgJUt55uH9YQ",
        "outputId": "36f38ae3-6150-4062-c201-cc3c89b376b1"
      },
      "source": [
        "test['preds'] = preds\n",
        "test.head()"
      ],
      "execution_count": null,
      "outputs": [
        {
          "output_type": "execute_result",
          "data": {
            "text/html": [
              "<div>\n",
              "<style scoped>\n",
              "    .dataframe tbody tr th:only-of-type {\n",
              "        vertical-align: middle;\n",
              "    }\n",
              "\n",
              "    .dataframe tbody tr th {\n",
              "        vertical-align: top;\n",
              "    }\n",
              "\n",
              "    .dataframe thead th {\n",
              "        text-align: right;\n",
              "    }\n",
              "</style>\n",
              "<table border=\"1\" class=\"dataframe\">\n",
              "  <thead>\n",
              "    <tr style=\"text-align: right;\">\n",
              "      <th></th>\n",
              "      <th>posting_id</th>\n",
              "      <th>image</th>\n",
              "      <th>image_phash</th>\n",
              "      <th>title</th>\n",
              "      <th>label_group</th>\n",
              "      <th>preds2</th>\n",
              "      <th>target</th>\n",
              "      <th>preds</th>\n",
              "    </tr>\n",
              "  </thead>\n",
              "  <tbody>\n",
              "    <tr>\n",
              "      <th>0</th>\n",
              "      <td>train_129225211</td>\n",
              "      <td>0000a68812bc7e98c42888dfb1c07da0.jpg</td>\n",
              "      <td>94974f937d4c2433</td>\n",
              "      <td>Paper Bag Victoria Secret</td>\n",
              "      <td>249114794</td>\n",
              "      <td>[train_129225211]</td>\n",
              "      <td>[train_129225211, train_2278313361]</td>\n",
              "      <td>[train_129225211, train_2278313361]</td>\n",
              "    </tr>\n",
              "    <tr>\n",
              "      <th>1</th>\n",
              "      <td>train_3386243561</td>\n",
              "      <td>00039780dfc94d01db8676fe789ecd05.jpg</td>\n",
              "      <td>af3f9460c2838f0f</td>\n",
              "      <td>Double Tape 3M VHB 12 mm x 4,5 m ORIGINAL / DO...</td>\n",
              "      <td>2937985045</td>\n",
              "      <td>[train_3386243561, train_3423213080]</td>\n",
              "      <td>[train_3386243561, train_3423213080]</td>\n",
              "      <td>[train_3386243561]</td>\n",
              "    </tr>\n",
              "    <tr>\n",
              "      <th>2</th>\n",
              "      <td>train_2288590299</td>\n",
              "      <td>000a190fdd715a2a36faed16e2c65df7.jpg</td>\n",
              "      <td>b94cb00ed3e50f78</td>\n",
              "      <td>Maling TTS Canned Pork Luncheon Meat 397 gr</td>\n",
              "      <td>2395904891</td>\n",
              "      <td>[train_2288590299]</td>\n",
              "      <td>[train_2288590299, train_3803689425]</td>\n",
              "      <td>[train_2288590299]</td>\n",
              "    </tr>\n",
              "    <tr>\n",
              "      <th>3</th>\n",
              "      <td>train_2406599165</td>\n",
              "      <td>00117e4fc239b1b641ff08340b429633.jpg</td>\n",
              "      <td>8514fc58eafea283</td>\n",
              "      <td>Daster Batik Lengan pendek - Motif Acak / Camp...</td>\n",
              "      <td>4093212188</td>\n",
              "      <td>[train_2406599165]</td>\n",
              "      <td>[train_2406599165, train_3342059966]</td>\n",
              "      <td>[train_2406599165, train_3576714541, train_150...</td>\n",
              "    </tr>\n",
              "    <tr>\n",
              "      <th>4</th>\n",
              "      <td>train_3369186413</td>\n",
              "      <td>00136d1cf4edede0203f32f05f660588.jpg</td>\n",
              "      <td>a6f319f924ad708c</td>\n",
              "      <td>Nescafe \\xc3\\x89clair Latte 220ml</td>\n",
              "      <td>3648931069</td>\n",
              "      <td>[train_3369186413, train_921438619]</td>\n",
              "      <td>[train_3369186413, train_921438619]</td>\n",
              "      <td>[train_3369186413]</td>\n",
              "    </tr>\n",
              "  </tbody>\n",
              "</table>\n",
              "</div>"
            ],
            "text/plain": [
              "         posting_id  ...                                              preds\n",
              "0   train_129225211  ...                [train_129225211, train_2278313361]\n",
              "1  train_3386243561  ...                                 [train_3386243561]\n",
              "2  train_2288590299  ...                                 [train_2288590299]\n",
              "3  train_2406599165  ...  [train_2406599165, train_3576714541, train_150...\n",
              "4  train_3369186413  ...                                 [train_3369186413]\n",
              "\n",
              "[5 rows x 8 columns]"
            ]
          },
          "metadata": {
            "tags": []
          },
          "execution_count": 35
        }
      ]
    },
    {
      "cell_type": "code",
      "metadata": {
        "colab": {
          "base_uri": "https://localhost:8080/"
        },
        "id": "0IM-K8rl57wl",
        "outputId": "f950dc7e-7d0d-447f-bd78-5dc1a9b61e03"
      },
      "source": [
        "tmp = test.groupby('label_group').posting_id.agg('unique').to_dict()\n",
        "test['target'] = test.label_group.map(tmp)\n",
        "test['f1_preds'] = test.apply(getMetric('preds'),axis=1)\n",
        "print('CV Score =', test.f1_preds.mean() )"
      ],
      "execution_count": null,
      "outputs": [
        {
          "output_type": "stream",
          "text": [
            "CV Score = 0.6139718474363004\n"
          ],
          "name": "stdout"
        }
      ]
    },
    {
      "cell_type": "code",
      "metadata": {
        "id": "9lkd2mht6FSK"
      },
      "source": [
        "del test['f1_preds']\n",
        "del test['target']"
      ],
      "execution_count": null,
      "outputs": []
    },
    {
      "cell_type": "markdown",
      "metadata": {
        "id": "HxhbfxgKIdBW"
      },
      "source": [
        "## Use Phash Feature\n",
        "We will predict all items with the same phash as duplicates"
      ]
    },
    {
      "cell_type": "code",
      "metadata": {
        "colab": {
          "base_uri": "https://localhost:8080/",
          "height": 501
        },
        "id": "OWslQIZmIZMk",
        "outputId": "d39506e0-ef25-4804-dfd6-0468e30e12c7"
      },
      "source": [
        "tmp = test.groupby('image_phash').posting_id.agg('unique').to_dict()\n",
        "test['preds3'] = test.image_phash.map(tmp)\n",
        "test.head()"
      ],
      "execution_count": null,
      "outputs": [
        {
          "output_type": "execute_result",
          "data": {
            "text/html": [
              "<div>\n",
              "<style scoped>\n",
              "    .dataframe tbody tr th:only-of-type {\n",
              "        vertical-align: middle;\n",
              "    }\n",
              "\n",
              "    .dataframe tbody tr th {\n",
              "        vertical-align: top;\n",
              "    }\n",
              "\n",
              "    .dataframe thead th {\n",
              "        text-align: right;\n",
              "    }\n",
              "</style>\n",
              "<table border=\"1\" class=\"dataframe\">\n",
              "  <thead>\n",
              "    <tr style=\"text-align: right;\">\n",
              "      <th></th>\n",
              "      <th>posting_id</th>\n",
              "      <th>image</th>\n",
              "      <th>image_phash</th>\n",
              "      <th>title</th>\n",
              "      <th>label_group</th>\n",
              "      <th>preds2</th>\n",
              "      <th>preds</th>\n",
              "      <th>preds3</th>\n",
              "    </tr>\n",
              "  </thead>\n",
              "  <tbody>\n",
              "    <tr>\n",
              "      <th>0</th>\n",
              "      <td>train_129225211</td>\n",
              "      <td>0000a68812bc7e98c42888dfb1c07da0.jpg</td>\n",
              "      <td>94974f937d4c2433</td>\n",
              "      <td>Paper Bag Victoria Secret</td>\n",
              "      <td>249114794</td>\n",
              "      <td>[train_129225211]</td>\n",
              "      <td>[train_129225211, train_2278313361]</td>\n",
              "      <td>[train_129225211]</td>\n",
              "    </tr>\n",
              "    <tr>\n",
              "      <th>1</th>\n",
              "      <td>train_3386243561</td>\n",
              "      <td>00039780dfc94d01db8676fe789ecd05.jpg</td>\n",
              "      <td>af3f9460c2838f0f</td>\n",
              "      <td>Double Tape 3M VHB 12 mm x 4,5 m ORIGINAL / DO...</td>\n",
              "      <td>2937985045</td>\n",
              "      <td>[train_3386243561, train_3423213080]</td>\n",
              "      <td>[train_3386243561]</td>\n",
              "      <td>[train_3386243561]</td>\n",
              "    </tr>\n",
              "    <tr>\n",
              "      <th>2</th>\n",
              "      <td>train_2288590299</td>\n",
              "      <td>000a190fdd715a2a36faed16e2c65df7.jpg</td>\n",
              "      <td>b94cb00ed3e50f78</td>\n",
              "      <td>Maling TTS Canned Pork Luncheon Meat 397 gr</td>\n",
              "      <td>2395904891</td>\n",
              "      <td>[train_2288590299]</td>\n",
              "      <td>[train_2288590299]</td>\n",
              "      <td>[train_2288590299]</td>\n",
              "    </tr>\n",
              "    <tr>\n",
              "      <th>3</th>\n",
              "      <td>train_2406599165</td>\n",
              "      <td>00117e4fc239b1b641ff08340b429633.jpg</td>\n",
              "      <td>8514fc58eafea283</td>\n",
              "      <td>Daster Batik Lengan pendek - Motif Acak / Camp...</td>\n",
              "      <td>4093212188</td>\n",
              "      <td>[train_2406599165]</td>\n",
              "      <td>[train_2406599165, train_3576714541, train_150...</td>\n",
              "      <td>[train_2406599165]</td>\n",
              "    </tr>\n",
              "    <tr>\n",
              "      <th>4</th>\n",
              "      <td>train_3369186413</td>\n",
              "      <td>00136d1cf4edede0203f32f05f660588.jpg</td>\n",
              "      <td>a6f319f924ad708c</td>\n",
              "      <td>Nescafe \\xc3\\x89clair Latte 220ml</td>\n",
              "      <td>3648931069</td>\n",
              "      <td>[train_3369186413, train_921438619]</td>\n",
              "      <td>[train_3369186413]</td>\n",
              "      <td>[train_3369186413]</td>\n",
              "    </tr>\n",
              "  </tbody>\n",
              "</table>\n",
              "</div>"
            ],
            "text/plain": [
              "         posting_id  ...              preds3\n",
              "0   train_129225211  ...   [train_129225211]\n",
              "1  train_3386243561  ...  [train_3386243561]\n",
              "2  train_2288590299  ...  [train_2288590299]\n",
              "3  train_2406599165  ...  [train_2406599165]\n",
              "4  train_3369186413  ...  [train_3369186413]\n",
              "\n",
              "[5 rows x 8 columns]"
            ]
          },
          "metadata": {
            "tags": []
          },
          "execution_count": 27
        }
      ]
    },
    {
      "cell_type": "markdown",
      "metadata": {
        "id": "XX3UkMMfIp-b"
      },
      "source": [
        "## Compute CV Score¶"
      ]
    },
    {
      "cell_type": "code",
      "metadata": {
        "id": "m3MmgfHoIjpe"
      },
      "source": [
        "def combine_for_sub(row):\n",
        "    x = np.concatenate([row.preds,row.preds2, row.preds3])\n",
        "    return ' '.join( np.unique(x) )\n",
        "\n",
        "def combine_for_cv(row):\n",
        "    x = np.concatenate([row.preds,row.preds2, row.preds3])\n",
        "    return np.unique(x)"
      ],
      "execution_count": null,
      "outputs": []
    },
    {
      "cell_type": "code",
      "metadata": {
        "colab": {
          "base_uri": "https://localhost:8080/"
        },
        "id": "9plmA4DgIxoG",
        "outputId": "8bb99f07-ab6f-4ad6-ad36-5622074268a9"
      },
      "source": [
        "if COMPUTE_CV:\n",
        "    tmp = test.groupby('label_group').posting_id.agg('unique').to_dict()\n",
        "    test['target'] = test.label_group.map(tmp)\n",
        "    test['oof'] = test.apply(combine_for_cv,axis=1)\n",
        "    test['f1'] = test.apply(getMetric('oof'),axis=1)\n",
        "    print('CV Score =', test.f1.mean() )\n",
        "\n",
        "test['matches'] = test.apply(combine_for_sub,axis=1)"
      ],
      "execution_count": null,
      "outputs": [
        {
          "output_type": "stream",
          "text": [
            "CV Score = 0.7248077230326005\n"
          ],
          "name": "stdout"
        }
      ]
    }
  ]
}